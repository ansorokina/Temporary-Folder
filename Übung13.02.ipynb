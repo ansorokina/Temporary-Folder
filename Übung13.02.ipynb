{
 "cells": [
  {
   "cell_type": "code",
   "execution_count": null,
   "metadata": {},
   "outputs": [],
   "source": []
  },
  {
   "attachments": {},
   "cell_type": "markdown",
   "metadata": {},
   "source": [
    "Zahlenfolge"
   ]
  },
  {
   "cell_type": "code",
   "execution_count": 30,
   "metadata": {},
   "outputs": [
    {
     "data": {
      "text/plain": [
       "11"
      ]
     },
     "execution_count": 30,
     "metadata": {},
     "output_type": "execute_result"
    }
   ],
   "source": [
    "def zahlenfolge (zahl, verbose = False):\n",
    "     zaehler = 0\n",
    "     while zahl != 0:\n",
    "        zaehler = zaehler + 1\n",
    "        if zahl % 3 == 0:\n",
    "            zahl = zahl + 4\n",
    "        elif zahl % 3 != 0 and zahl % 4 == 0:\n",
    "            zahl = zahl // 2\n",
    "        elif zahl % 3 != 0 and zahl % 4 != 0:\n",
    "            zahl = zahl - 1\n",
    "        if verbose == True:\n",
    "            print(zahl, \"->\", zaehler)\n",
    "     return zaehler      \n",
    "zahlenfolge (7, False)"
   ]
  },
  {
   "attachments": {},
   "cell_type": "markdown",
   "metadata": {},
   "source": [
    "Optionaler Parameter"
   ]
  },
  {
   "cell_type": "code",
   "execution_count": 15,
   "metadata": {},
   "outputs": [
    {
     "name": "stdout",
     "output_type": "stream",
     "text": [
      "24\n"
     ]
    }
   ],
   "source": [
    "def funktion (a = 42):\n",
    "    print (a)\n",
    "funktion(a = 24)\n"
   ]
  }
 ],
 "metadata": {
  "kernelspec": {
   "display_name": "base",
   "language": "python",
   "name": "python3"
  },
  "language_info": {
   "codemirror_mode": {
    "name": "ipython",
    "version": 3
   },
   "file_extension": ".py",
   "mimetype": "text/x-python",
   "name": "python",
   "nbconvert_exporter": "python",
   "pygments_lexer": "ipython3",
   "version": "3.6.5"
  },
  "orig_nbformat": 4,
  "vscode": {
   "interpreter": {
    "hash": "ad2bdc8ecc057115af97d19610ffacc2b4e99fae6737bb82f5d7fb13d2f2c186"
   }
  }
 },
 "nbformat": 4,
 "nbformat_minor": 2
}
